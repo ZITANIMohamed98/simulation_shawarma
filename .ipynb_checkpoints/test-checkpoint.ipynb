{
 "cells": [
  {
   "cell_type": "code",
   "execution_count": 2,
   "metadata": {},
   "outputs": [
    {
     "name": "stdout",
     "output_type": "stream",
     "text": [
      "################################# - chicken stand cms0 has been created - #########################################\n",
      "\n",
      "################################# - chicken stand cms1 has been created - #########################################\n",
      "\n"
     ]
    }
   ],
   "source": [
    "from entities import *\n",
    "\n",
    "shawarmaStore = ShawarmaStore(2, 1.1, 0.5, 2, 3, 0.5**2, 1, 3, 0.8**2, 4, 5)\n",
    "for i in range (0, shawarmaStore.number_of_chicken_stands, 1):\n",
    "        chicken_meat_stand = MeatStand(\"cms\"+str(i), True)\n",
    "        print(\"################################# - chicken stand cms\"+str(i)+\" has been created - #########################################\\n\")\n",
    "        shawarmaStore.chicken_meat_stands.append(chicken_meat_stand)"
   ]
  },
  {
   "cell_type": "code",
   "execution_count": 5,
   "metadata": {},
   "outputs": [],
   "source": [
    "chickenStand = shawarma\n"
   ]
  },
  {
   "cell_type": "code",
   "execution_count": 13,
   "metadata": {},
   "outputs": [
    {
     "data": {
      "text/plain": [
       "0.025090011807269236"
      ]
     },
     "execution_count": 13,
     "metadata": {},
     "output_type": "execute_result"
    }
   ],
   "source": [
    "rg.expo(1)"
   ]
  },
  {
   "cell_type": "code",
   "execution_count": 1,
   "metadata": {},
   "outputs": [
    {
     "data": {
      "text/plain": [
       "time.struct_time(tm_year=2023, tm_mon=5, tm_mday=3, tm_hour=14, tm_min=53, tm_sec=43, tm_wday=2, tm_yday=123, tm_isdst=1)"
      ]
     },
     "execution_count": 1,
     "metadata": {},
     "output_type": "execute_result"
    }
   ],
   "source": [
    "import time \n",
    "\n",
    "startTime = time.localtime()\n",
    "startTime"
   ]
  }
 ],
 "metadata": {
  "kernelspec": {
   "display_name": "Python 3 (ipykernel)",
   "language": "python",
   "name": "python3"
  },
  "language_info": {
   "codemirror_mode": {
    "name": "ipython",
    "version": 3
   },
   "file_extension": ".py",
   "mimetype": "text/x-python",
   "name": "python",
   "nbconvert_exporter": "python",
   "pygments_lexer": "ipython3",
   "version": "3.9.13"
  }
 },
 "nbformat": 4,
 "nbformat_minor": 2
}
