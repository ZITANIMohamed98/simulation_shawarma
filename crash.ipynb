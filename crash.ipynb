{
 "cells": [
  {
   "cell_type": "code",
   "execution_count": null,
   "metadata": {},
   "outputs": [],
   "source": [
    "from entities import *\n",
    "shawarmaStore = ShawarmaStore(2, 1.1, 0.5, 2, 3, 0.5**2, 1, 3, 0.8**2, 4, 5)\n",
    "randomGenerator = RandomGenerator()\n",
    "for i in range (0, shawarmaStore.number_of_chicken_stands, 1):\n",
    "        chicken_meat_stand = MeatStand(\"cms\"+str(i), True)\n",
    "        print(\"################################# - chicken stand cms\"+str(i)+\" has been created - #########################################\\n\")\n",
    "        shawarmaStore.chicken_meat_stands.append(chicken_meat_stand)"
   ]
  }
 ],
 "metadata": {
  "kernelspec": {
   "display_name": "Python 3",
   "language": "python",
   "name": "python3"
  },
  "language_info": {
   "name": "python",
   "version": "3.11.2"
  },
  "orig_nbformat": 4
 },
 "nbformat": 4,
 "nbformat_minor": 2
}
